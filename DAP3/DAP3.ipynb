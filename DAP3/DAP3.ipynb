{
 "cells": [
  {
   "cell_type": "markdown",
   "metadata": {},
   "source": [
    "## Imports"
   ]
  },
  {
   "cell_type": "code",
   "execution_count": 5,
   "metadata": {},
   "outputs": [],
   "source": [
    "import numpy as np\n",
    "import pandas as pd\n",
    "import talib as ta\n",
    "from sklearn.neighbors import KNeighborsClassifier\n",
    "from sklearn.tree import DecisionTreeClassifier"
   ]
  },
  {
   "cell_type": "markdown",
   "metadata": {},
   "source": [
    "## Data"
   ]
  },
  {
   "cell_type": "code",
   "execution_count": 6,
   "metadata": {},
   "outputs": [
    {
     "name": "stdout",
     "output_type": "stream",
     "text": [
      "               open     high       low    close    volume  Name Movement\n",
      "date                                                                    \n",
      "2013-02-08   261.40   265.25   260.555   261.95   3879078  AMZN       Up\n",
      "2013-02-11   263.20   263.25   256.600   257.21   3403403  AMZN     Down\n",
      "2013-02-12   259.19   260.16   257.000   258.70   2938660  AMZN       Up\n",
      "2013-02-13   261.53   269.96   260.300   269.47   5292996  AMZN       Up\n",
      "2013-02-14   267.37   270.65   265.400   269.24   3462780  AMZN     Down\n",
      "...             ...      ...       ...      ...       ...   ...      ...\n",
      "2018-02-01  1445.00  1459.88  1385.140  1390.00   9113808  AMZN     Down\n",
      "2018-02-02  1477.39  1498.00  1414.000  1429.95  11125722  AMZN       Up\n",
      "2018-02-05  1402.62  1458.98  1320.720  1390.00  11494985  AMZN     Down\n",
      "2018-02-06  1361.46  1443.99  1351.790  1442.84  11066819  AMZN       Up\n",
      "2018-02-07  1449.00  1460.99  1415.150  1416.78   7162741  AMZN     Down\n",
      "\n",
      "[1259 rows x 7 columns]\n"
     ]
    }
   ],
   "source": [
    "# Gets the data of the prices of stock for a specific company\n",
    "# Adds Movement info based on closing price\n",
    "# If price does not change we keep movement as up for simplicity sake\n",
    "\n",
    "path = '../processeddata/individual_stocks_5yr/individual_stocks_5yr/'\n",
    "ticker = 'AMZN' # Change Stock to analyze\n",
    "\n",
    "p = path + ticker + '_data.csv' \n",
    "df = pd.read_csv(p)\n",
    "df.set_index(['date'],inplace=True)\n",
    "\n",
    "df['Movement'] = 'Up'\n",
    "\n",
    "prevPrice = 0.0\n",
    "for index, row in df.iterrows():\n",
    "    if row['close'] < prevPrice:\n",
    "        df.loc[index, 'Movement'] = 'Down'\n",
    "    prevPrice = row['close']\n",
    "\n",
    "print(df)"
   ]
  },
  {
   "cell_type": "markdown",
   "metadata": {},
   "source": [
    "## Decision Tree Model"
   ]
  },
  {
   "cell_type": "code",
   "execution_count": null,
   "metadata": {},
   "outputs": [],
   "source": [
    "# Setting Technical Indicators\n",
    "# Momentum: Relative Strength Index (RSI)\n",
    "# Trend: Moving Average Convergence Divergence (MACD), Estimated Moving Average (EMA)\n",
    "# Volatility: Average True Range (ATR) \n",
    "\n"
   ]
  }
 ],
 "metadata": {
  "kernelspec": {
   "display_name": "Python 3",
   "language": "python",
   "name": "python3"
  },
  "language_info": {
   "codemirror_mode": {
    "name": "ipython",
    "version": 3
   },
   "file_extension": ".py",
   "mimetype": "text/x-python",
   "name": "python",
   "nbconvert_exporter": "python",
   "pygments_lexer": "ipython3",
   "version": "3.7.6"
  }
 },
 "nbformat": 4,
 "nbformat_minor": 4
}
