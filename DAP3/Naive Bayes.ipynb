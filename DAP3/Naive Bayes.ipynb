{
 "cells": [
  {
   "cell_type": "markdown",
   "metadata": {},
   "source": [
    "# Setup"
   ]
  },
  {
   "cell_type": "code",
   "execution_count": 66,
   "metadata": {},
   "outputs": [],
   "source": [
    "%matplotlib notebook\n",
    "import sys\n",
    "assert sys.version_info >= (3, 5)\n",
    "\n",
    "import sklearn\n",
    "assert sklearn.__version__ >= \"0.20\"\n",
    "\n",
    "import numpy as np\n",
    "import pandas as pd\n",
    "import seaborn as sn\n",
    "import os\n",
    "\n",
    "from sklearn.metrics import confusion_matrix\n",
    "from sklearn.metrics import classification_report\n",
    "from sklearn.model_selection import train_test_split\n",
    "from sklearn.datasets import make_classification, make_blobs\n",
    "from matplotlib.colors import ListedColormap\n",
    "\n",
    "%matplotlib inline\n",
    "import matplotlib as mpl\n",
    "import matplotlib.pyplot as plt\n",
    "mpl.rc('axes', labelsize=14)\n",
    "mpl.rc('xtick', labelsize=12)\n",
    "mpl.rc('ytick', labelsize=12)\n",
    "\n",
    "PROJECT_ROOT_DIR = \".\"\n",
    "\n",
    "CHAPTER_ID = 'Naive Bayesian'\n",
    "IMAGES_PATH = os.path.join(PROJECT_ROOT_DIR, \"images\", CHAPTER_ID)\n",
    "\n",
    "os.makedirs(IMAGES_PATH, exist_ok=True)\n",
    "\n",
    "def save_fig(fig_id, tight_layout=True, fig_extension=\"png\", resolution=300):\n",
    "    path = os.path.join(IMAGES_PATH, fig_id + \".\" + fig_extension)\n",
    "    print(\"Saving figure\", fig_id)\n",
    "    if tight_layout:\n",
    "        plt.tight_layout()\n",
    "    plt.savefig(path, format=fig_extension, dpi=resolution)"
   ]
  },
  {
   "cell_type": "markdown",
   "metadata": {},
   "source": [
    "# Datasets"
   ]
  },
  {
   "cell_type": "code",
   "execution_count": 222,
   "metadata": {
    "scrolled": true
   },
   "outputs": [
    {
     "data": {
      "text/html": [
       "<div>\n",
       "<style scoped>\n",
       "    .dataframe tbody tr th:only-of-type {\n",
       "        vertical-align: middle;\n",
       "    }\n",
       "\n",
       "    .dataframe tbody tr th {\n",
       "        vertical-align: top;\n",
       "    }\n",
       "\n",
       "    .dataframe thead th {\n",
       "        text-align: right;\n",
       "    }\n",
       "</style>\n",
       "<table border=\"1\" class=\"dataframe\">\n",
       "  <thead>\n",
       "    <tr style=\"text-align: right;\">\n",
       "      <th></th>\n",
       "      <th>open</th>\n",
       "      <th>high</th>\n",
       "      <th>low</th>\n",
       "      <th>close</th>\n",
       "      <th>volume</th>\n",
       "      <th>Name</th>\n",
       "    </tr>\n",
       "    <tr>\n",
       "      <th>date</th>\n",
       "      <th></th>\n",
       "      <th></th>\n",
       "      <th></th>\n",
       "      <th></th>\n",
       "      <th></th>\n",
       "      <th></th>\n",
       "    </tr>\n",
       "  </thead>\n",
       "  <tbody>\n",
       "    <tr>\n",
       "      <th>2013-02-08</th>\n",
       "      <td>35.39</td>\n",
       "      <td>35.525</td>\n",
       "      <td>35.160</td>\n",
       "      <td>35.27</td>\n",
       "      <td>18275496</td>\n",
       "      <td>T</td>\n",
       "    </tr>\n",
       "    <tr>\n",
       "      <th>2013-02-11</th>\n",
       "      <td>35.26</td>\n",
       "      <td>35.315</td>\n",
       "      <td>35.060</td>\n",
       "      <td>35.23</td>\n",
       "      <td>13687717</td>\n",
       "      <td>T</td>\n",
       "    </tr>\n",
       "    <tr>\n",
       "      <th>2013-02-12</th>\n",
       "      <td>35.25</td>\n",
       "      <td>35.670</td>\n",
       "      <td>35.230</td>\n",
       "      <td>35.60</td>\n",
       "      <td>16958584</td>\n",
       "      <td>T</td>\n",
       "    </tr>\n",
       "    <tr>\n",
       "      <th>2013-02-13</th>\n",
       "      <td>35.67</td>\n",
       "      <td>35.810</td>\n",
       "      <td>35.340</td>\n",
       "      <td>35.42</td>\n",
       "      <td>17410587</td>\n",
       "      <td>T</td>\n",
       "    </tr>\n",
       "    <tr>\n",
       "      <th>2013-02-14</th>\n",
       "      <td>35.42</td>\n",
       "      <td>35.440</td>\n",
       "      <td>35.030</td>\n",
       "      <td>35.29</td>\n",
       "      <td>26205412</td>\n",
       "      <td>T</td>\n",
       "    </tr>\n",
       "    <tr>\n",
       "      <th>...</th>\n",
       "      <td>...</td>\n",
       "      <td>...</td>\n",
       "      <td>...</td>\n",
       "      <td>...</td>\n",
       "      <td>...</td>\n",
       "      <td>...</td>\n",
       "    </tr>\n",
       "    <tr>\n",
       "      <th>2018-02-01</th>\n",
       "      <td>38.51</td>\n",
       "      <td>39.290</td>\n",
       "      <td>38.401</td>\n",
       "      <td>39.16</td>\n",
       "      <td>59963826</td>\n",
       "      <td>T</td>\n",
       "    </tr>\n",
       "    <tr>\n",
       "      <th>2018-02-02</th>\n",
       "      <td>39.03</td>\n",
       "      <td>39.040</td>\n",
       "      <td>37.810</td>\n",
       "      <td>38.07</td>\n",
       "      <td>46098657</td>\n",
       "      <td>T</td>\n",
       "    </tr>\n",
       "    <tr>\n",
       "      <th>2018-02-05</th>\n",
       "      <td>37.81</td>\n",
       "      <td>38.310</td>\n",
       "      <td>36.630</td>\n",
       "      <td>36.63</td>\n",
       "      <td>45595537</td>\n",
       "      <td>T</td>\n",
       "    </tr>\n",
       "    <tr>\n",
       "      <th>2018-02-06</th>\n",
       "      <td>36.08</td>\n",
       "      <td>37.070</td>\n",
       "      <td>35.500</td>\n",
       "      <td>36.83</td>\n",
       "      <td>62905300</td>\n",
       "      <td>T</td>\n",
       "    </tr>\n",
       "    <tr>\n",
       "      <th>2018-02-07</th>\n",
       "      <td>36.81</td>\n",
       "      <td>37.450</td>\n",
       "      <td>36.740</td>\n",
       "      <td>36.93</td>\n",
       "      <td>35634519</td>\n",
       "      <td>T</td>\n",
       "    </tr>\n",
       "  </tbody>\n",
       "</table>\n",
       "<p>1259 rows × 6 columns</p>\n",
       "</div>"
      ],
      "text/plain": [
       "             open    high     low  close    volume Name\n",
       "date                                                   \n",
       "2013-02-08  35.39  35.525  35.160  35.27  18275496    T\n",
       "2013-02-11  35.26  35.315  35.060  35.23  13687717    T\n",
       "2013-02-12  35.25  35.670  35.230  35.60  16958584    T\n",
       "2013-02-13  35.67  35.810  35.340  35.42  17410587    T\n",
       "2013-02-14  35.42  35.440  35.030  35.29  26205412    T\n",
       "...           ...     ...     ...    ...       ...  ...\n",
       "2018-02-01  38.51  39.290  38.401  39.16  59963826    T\n",
       "2018-02-02  39.03  39.040  37.810  38.07  46098657    T\n",
       "2018-02-05  37.81  38.310  36.630  36.63  45595537    T\n",
       "2018-02-06  36.08  37.070  35.500  36.83  62905300    T\n",
       "2018-02-07  36.81  37.450  36.740  36.93  35634519    T\n",
       "\n",
       "[1259 rows x 6 columns]"
      ]
     },
     "execution_count": 222,
     "metadata": {},
     "output_type": "execute_result"
    }
   ],
   "source": [
    "path = '../processeddata/individual_stocks_5yr/individual_stocks_5yr/'\n",
    "ticker = 'T' # Change Stock to analyze\n",
    "\n",
    "p = path + ticker + '_data.csv' \n",
    "df = pd.read_csv(p)\n",
    "df.set_index(['date'],inplace=True)\n",
    "\n",
    "df"
   ]
  },
  {
   "cell_type": "code",
   "execution_count": 223,
   "metadata": {},
   "outputs": [
    {
     "name": "stdout",
     "output_type": "stream",
     "text": [
      "             open    high    low  close    volume Name Movement Follow %Change\n",
      "date                                                                          \n",
      "2013-02-08  35.39  35.525  35.16  35.27  18275496    T       Up     No    0.00\n",
      "2013-02-11  35.26  35.315  35.06  35.23  13687717    T     Down     No    0.11\n",
      "2013-02-12  35.25  35.670  35.23  35.60  16958584    T       Up     No   -1.05\n",
      "2013-02-13  35.67  35.810  35.34  35.42  17410587    T     Down     No    0.51\n",
      "2013-02-14  35.42  35.440  35.03  35.29  26205412    T     Down    Yes    0.37\n",
      "             open   high     low  close    volume Name Movement Follow %Change\n",
      "date                                                                          \n",
      "2018-02-01  38.51  39.29  38.401  39.16  59963826    T       Up    Yes   -4.57\n",
      "2018-02-02  39.03  39.04  37.810  38.07  46098657    T     Down     No    2.78\n",
      "2018-02-05  37.81  38.31  36.630  36.63  45595537    T     Down    Yes    3.78\n",
      "2018-02-06  36.08  37.07  35.500  36.83  62905300    T       Up     No   -0.55\n",
      "2018-02-07  36.81  37.45  36.740  36.93  35634519    T       Up    Yes   -0.27\n"
     ]
    }
   ],
   "source": [
    "df['Movement'] = 'Up'\n",
    "\n",
    "prevPrice = 0.0\n",
    "for index, row in df.iterrows():\n",
    "    if row['close'] < prevPrice:\n",
    "        df.loc[index, 'Movement'] = 'Down'\n",
    "    prevPrice = row['close']\n",
    "\n",
    "df['Follow'] = 'Yes'\n",
    "\n",
    "prevMove = 'Yes'\n",
    "for index, row in df.iterrows():\n",
    "    if row['Movement'] != prevMove:\n",
    "        df.loc[index, 'Follow'] = 'No'\n",
    "    prevMove = row['Movement']\n",
    "    \n",
    "df['%Change'] = 0\n",
    "\n",
    "prevClose = df['close'][0]\n",
    "for index, row in df.iterrows():\n",
    "    diff = prevClose - row['close']\n",
    "    perc = (diff / prevClose) * 100\n",
    "    perc = format(perc, '.2f')\n",
    "    df.loc[index, '%Change'] = perc\n",
    "    prevClose = row['close']\n",
    "    \n",
    "\n",
    "print(df.head())\n",
    "print(df.tail())"
   ]
  },
  {
   "cell_type": "code",
   "execution_count": 224,
   "metadata": {
    "scrolled": true
   },
   "outputs": [],
   "source": [
    "X, y = df[['%Change',\"Follow\"]], df[['Movement']]\n",
    "\n",
    "X_train, X_test, y_train, y_test = train_test_split(X, y, test_size = 0.3)"
   ]
  },
  {
   "cell_type": "code",
   "execution_count": 220,
   "metadata": {},
   "outputs": [
    {
     "name": "stdout",
     "output_type": "stream",
     "text": [
      "<class 'pandas.core.frame.DataFrame'>\n",
      "<class 'pandas.core.frame.DataFrame'>\n"
     ]
    }
   ],
   "source": [
    "print(type(X_train))\n",
    "print(type(y_train))"
   ]
  },
  {
   "cell_type": "code",
   "execution_count": 228,
   "metadata": {},
   "outputs": [
    {
     "name": "stdout",
     "output_type": "stream",
     "text": [
      "           %Change Follow\n",
      "date                     \n",
      "2018-01-04   -0.93      0\n",
      "2016-01-11   -1.22      0\n",
      "2013-11-20    0.90      0\n",
      "2015-06-19    0.09      0\n",
      "2013-05-16    0.40      0\n",
      "...            ...    ...\n",
      "2016-05-12   -0.94      0\n",
      "2014-03-19    0.06      0\n",
      "2015-07-09    1.15      0\n",
      "2016-02-10    0.60      0\n",
      "2013-10-07   -0.74      0\n",
      "\n",
      "[881 rows x 2 columns]\n",
      "           Movement\n",
      "date               \n",
      "2018-01-04        0\n",
      "2016-01-11        0\n",
      "2013-11-20        0\n",
      "2015-06-19        0\n",
      "2013-05-16        0\n",
      "...             ...\n",
      "2016-05-12        0\n",
      "2014-03-19        0\n",
      "2015-07-09        0\n",
      "2016-02-10        0\n",
      "2013-10-07        0\n",
      "\n",
      "[881 rows x 1 columns]\n",
      "           %Change Follow\n",
      "date                     \n",
      "2018-01-04   -0.93      0\n",
      "2016-01-11   -1.22      0\n",
      "2013-11-20    0.90      0\n",
      "2015-06-19    0.09      0\n",
      "2013-05-16    0.40      0\n",
      "...            ...    ...\n",
      "2016-05-12   -0.94      0\n",
      "2014-03-19    0.06      0\n",
      "2015-07-09    1.15      0\n",
      "2016-02-10    0.60      0\n",
      "2013-10-07   -0.74      0\n",
      "\n",
      "[881 rows x 2 columns]"
     ]
    },
    {
     "name": "stderr",
     "output_type": "stream",
     "text": [
      "C:\\Users\\cfong\\anaconda3\\lib\\site-packages\\IPython\\core\\interactiveshell.py:3331: SettingWithCopyWarning: \n",
      "A value is trying to be set on a copy of a slice from a DataFrame\n",
      "\n",
      "See the caveats in the documentation: https://pandas.pydata.org/pandas-docs/stable/user_guide/indexing.html#returning-a-view-versus-a-copy\n",
      "  exec(code_obj, self.user_global_ns, self.user_ns)\n"
     ]
    },
    {
     "name": "stdout",
     "output_type": "stream",
     "text": [
      "\n",
      "           Movement\n",
      "date               \n",
      "2018-01-04        0\n",
      "2016-01-11        0\n",
      "2013-11-20        0\n",
      "2015-06-19        0\n",
      "2013-05-16        0\n",
      "...             ...\n",
      "2016-05-12        0\n",
      "2014-03-19        0\n",
      "2015-07-09        0\n",
      "2016-02-10        0\n",
      "2013-10-07        0\n",
      "\n",
      "[881 rows x 1 columns]\n"
     ]
    }
   ],
   "source": [
    "print(X_train)\n",
    "print(y_train)\n",
    "for i in range(0, len(X_train)):\n",
    "    if X_train['Follow'][i] == 'Yes':\n",
    "        X_train['Follow'][i] = 1\n",
    "    else:\n",
    "        X_train['Follow'][i] = 0\n",
    "    if y_train['Movement'][i] == 'Up':\n",
    "        y_train['Movement'][i] = 1\n",
    "    else:\n",
    "        y_train['Movement'][i] = 0\n",
    "\n",
    "print(X_train)\n",
    "print(y_train)"
   ]
  },
  {
   "cell_type": "code",
   "execution_count": 232,
   "metadata": {},
   "outputs": [
    {
     "name": "stderr",
     "output_type": "stream",
     "text": [
      "C:\\Users\\cfong\\anaconda3\\lib\\site-packages\\sklearn\\naive_bayes.py:206: DataConversionWarning: A column-vector y was passed when a 1d array was expected. Please change the shape of y to (n_samples, ), for example using ravel().\n",
      "  y = column_or_1d(y, warn=True)\n"
     ]
    },
    {
     "ename": "ValueError",
     "evalue": "Unknown label type: (array([0], dtype=object),)",
     "output_type": "error",
     "traceback": [
      "\u001b[1;31m---------------------------------------------------------------------------\u001b[0m",
      "\u001b[1;31mValueError\u001b[0m                                Traceback (most recent call last)",
      "\u001b[1;32m<ipython-input-232-6e4c56b79ea2>\u001b[0m in \u001b[0;36m<module>\u001b[1;34m\u001b[0m\n\u001b[0;32m      3\u001b[0m \u001b[1;33m\u001b[0m\u001b[0m\n\u001b[0;32m      4\u001b[0m \u001b[0mgnb\u001b[0m \u001b[1;33m=\u001b[0m \u001b[0mGaussianNB\u001b[0m\u001b[1;33m(\u001b[0m\u001b[1;33m)\u001b[0m\u001b[1;33m\u001b[0m\u001b[1;33m\u001b[0m\u001b[0m\n\u001b[1;32m----> 5\u001b[1;33m \u001b[0mgnb\u001b[0m\u001b[1;33m.\u001b[0m\u001b[0mfit\u001b[0m\u001b[1;33m(\u001b[0m\u001b[0mX_train\u001b[0m\u001b[1;33m,\u001b[0m \u001b[0my_train\u001b[0m\u001b[1;33m)\u001b[0m\u001b[1;33m\u001b[0m\u001b[1;33m\u001b[0m\u001b[0m\n\u001b[0m\u001b[0;32m      6\u001b[0m \u001b[0my_pred\u001b[0m \u001b[1;33m=\u001b[0m \u001b[0mgnb\u001b[0m\u001b[1;33m.\u001b[0m\u001b[0mpredict\u001b[0m\u001b[1;33m(\u001b[0m\u001b[0mX_test\u001b[0m\u001b[1;33m)\u001b[0m\u001b[1;33m\u001b[0m\u001b[1;33m\u001b[0m\u001b[0m\n\u001b[0;32m      7\u001b[0m print(\"Number of mislabeled points out of a total %d points : %d\"\n",
      "\u001b[1;32m~\\anaconda3\\lib\\site-packages\\sklearn\\naive_bayes.py\u001b[0m in \u001b[0;36mfit\u001b[1;34m(self, X, y, sample_weight)\u001b[0m\n\u001b[0;32m    206\u001b[0m         \u001b[0my\u001b[0m \u001b[1;33m=\u001b[0m \u001b[0mcolumn_or_1d\u001b[0m\u001b[1;33m(\u001b[0m\u001b[0my\u001b[0m\u001b[1;33m,\u001b[0m \u001b[0mwarn\u001b[0m\u001b[1;33m=\u001b[0m\u001b[1;32mTrue\u001b[0m\u001b[1;33m)\u001b[0m\u001b[1;33m\u001b[0m\u001b[1;33m\u001b[0m\u001b[0m\n\u001b[0;32m    207\u001b[0m         return self._partial_fit(X, y, np.unique(y), _refit=True,\n\u001b[1;32m--> 208\u001b[1;33m                                  sample_weight=sample_weight)\n\u001b[0m\u001b[0;32m    209\u001b[0m \u001b[1;33m\u001b[0m\u001b[0m\n\u001b[0;32m    210\u001b[0m     \u001b[1;32mdef\u001b[0m \u001b[0m_check_X\u001b[0m\u001b[1;33m(\u001b[0m\u001b[0mself\u001b[0m\u001b[1;33m,\u001b[0m \u001b[0mX\u001b[0m\u001b[1;33m)\u001b[0m\u001b[1;33m:\u001b[0m\u001b[1;33m\u001b[0m\u001b[1;33m\u001b[0m\u001b[0m\n",
      "\u001b[1;32m~\\anaconda3\\lib\\site-packages\\sklearn\\naive_bayes.py\u001b[0m in \u001b[0;36m_partial_fit\u001b[1;34m(self, X, y, classes, _refit, sample_weight)\u001b[0m\n\u001b[0;32m    370\u001b[0m             \u001b[0mself\u001b[0m\u001b[1;33m.\u001b[0m\u001b[0mclasses_\u001b[0m \u001b[1;33m=\u001b[0m \u001b[1;32mNone\u001b[0m\u001b[1;33m\u001b[0m\u001b[1;33m\u001b[0m\u001b[0m\n\u001b[0;32m    371\u001b[0m \u001b[1;33m\u001b[0m\u001b[0m\n\u001b[1;32m--> 372\u001b[1;33m         \u001b[1;32mif\u001b[0m \u001b[0m_check_partial_fit_first_call\u001b[0m\u001b[1;33m(\u001b[0m\u001b[0mself\u001b[0m\u001b[1;33m,\u001b[0m \u001b[0mclasses\u001b[0m\u001b[1;33m)\u001b[0m\u001b[1;33m:\u001b[0m\u001b[1;33m\u001b[0m\u001b[1;33m\u001b[0m\u001b[0m\n\u001b[0m\u001b[0;32m    373\u001b[0m             \u001b[1;31m# This is the first call to partial_fit:\u001b[0m\u001b[1;33m\u001b[0m\u001b[1;33m\u001b[0m\u001b[1;33m\u001b[0m\u001b[0m\n\u001b[0;32m    374\u001b[0m             \u001b[1;31m# initialize various cumulative counters\u001b[0m\u001b[1;33m\u001b[0m\u001b[1;33m\u001b[0m\u001b[1;33m\u001b[0m\u001b[0m\n",
      "\u001b[1;32m~\\anaconda3\\lib\\site-packages\\sklearn\\utils\\multiclass.py\u001b[0m in \u001b[0;36m_check_partial_fit_first_call\u001b[1;34m(clf, classes)\u001b[0m\n\u001b[0;32m    318\u001b[0m         \u001b[1;32melse\u001b[0m\u001b[1;33m:\u001b[0m\u001b[1;33m\u001b[0m\u001b[1;33m\u001b[0m\u001b[0m\n\u001b[0;32m    319\u001b[0m             \u001b[1;31m# This is the first call to partial_fit\u001b[0m\u001b[1;33m\u001b[0m\u001b[1;33m\u001b[0m\u001b[1;33m\u001b[0m\u001b[0m\n\u001b[1;32m--> 320\u001b[1;33m             \u001b[0mclf\u001b[0m\u001b[1;33m.\u001b[0m\u001b[0mclasses_\u001b[0m \u001b[1;33m=\u001b[0m \u001b[0munique_labels\u001b[0m\u001b[1;33m(\u001b[0m\u001b[0mclasses\u001b[0m\u001b[1;33m)\u001b[0m\u001b[1;33m\u001b[0m\u001b[1;33m\u001b[0m\u001b[0m\n\u001b[0m\u001b[0;32m    321\u001b[0m             \u001b[1;32mreturn\u001b[0m \u001b[1;32mTrue\u001b[0m\u001b[1;33m\u001b[0m\u001b[1;33m\u001b[0m\u001b[0m\n\u001b[0;32m    322\u001b[0m \u001b[1;33m\u001b[0m\u001b[0m\n",
      "\u001b[1;32m~\\anaconda3\\lib\\site-packages\\sklearn\\utils\\multiclass.py\u001b[0m in \u001b[0;36munique_labels\u001b[1;34m(*ys)\u001b[0m\n\u001b[0;32m     92\u001b[0m     \u001b[0m_unique_labels\u001b[0m \u001b[1;33m=\u001b[0m \u001b[0m_FN_UNIQUE_LABELS\u001b[0m\u001b[1;33m.\u001b[0m\u001b[0mget\u001b[0m\u001b[1;33m(\u001b[0m\u001b[0mlabel_type\u001b[0m\u001b[1;33m,\u001b[0m \u001b[1;32mNone\u001b[0m\u001b[1;33m)\u001b[0m\u001b[1;33m\u001b[0m\u001b[1;33m\u001b[0m\u001b[0m\n\u001b[0;32m     93\u001b[0m     \u001b[1;32mif\u001b[0m \u001b[1;32mnot\u001b[0m \u001b[0m_unique_labels\u001b[0m\u001b[1;33m:\u001b[0m\u001b[1;33m\u001b[0m\u001b[1;33m\u001b[0m\u001b[0m\n\u001b[1;32m---> 94\u001b[1;33m         \u001b[1;32mraise\u001b[0m \u001b[0mValueError\u001b[0m\u001b[1;33m(\u001b[0m\u001b[1;34m\"Unknown label type: %s\"\u001b[0m \u001b[1;33m%\u001b[0m \u001b[0mrepr\u001b[0m\u001b[1;33m(\u001b[0m\u001b[0mys\u001b[0m\u001b[1;33m)\u001b[0m\u001b[1;33m)\u001b[0m\u001b[1;33m\u001b[0m\u001b[1;33m\u001b[0m\u001b[0m\n\u001b[0m\u001b[0;32m     95\u001b[0m \u001b[1;33m\u001b[0m\u001b[0m\n\u001b[0;32m     96\u001b[0m     \u001b[0mys_labels\u001b[0m \u001b[1;33m=\u001b[0m \u001b[0mset\u001b[0m\u001b[1;33m(\u001b[0m\u001b[0mchain\u001b[0m\u001b[1;33m.\u001b[0m\u001b[0mfrom_iterable\u001b[0m\u001b[1;33m(\u001b[0m\u001b[0m_unique_labels\u001b[0m\u001b[1;33m(\u001b[0m\u001b[0my\u001b[0m\u001b[1;33m)\u001b[0m \u001b[1;32mfor\u001b[0m \u001b[0my\u001b[0m \u001b[1;32min\u001b[0m \u001b[0mys\u001b[0m\u001b[1;33m)\u001b[0m\u001b[1;33m)\u001b[0m\u001b[1;33m\u001b[0m\u001b[1;33m\u001b[0m\u001b[0m\n",
      "\u001b[1;31mValueError\u001b[0m: Unknown label type: (array([0], dtype=object),)"
     ]
    }
   ],
   "source": [
    "from sklearn.model_selection import train_test_split\n",
    "from sklearn.naive_bayes import GaussianNB\n",
    "      \n",
    "gnb = GaussianNB()\n",
    "gnb.fit(X_train, y_train)\n",
    "y_pred = gnb.predict(X_test)\n",
    "print(\"Number of mislabeled points out of a total %d points : %d\"\n",
    "      % (X_test.shape[0], (y_test != y_pred).sum()))"
   ]
  },
  {
   "cell_type": "code",
   "execution_count": 145,
   "metadata": {},
   "outputs": [
    {
     "name": "stderr",
     "output_type": "stream",
     "text": [
      "C:\\Users\\cfong\\anaconda3\\lib\\site-packages\\ipykernel_launcher.py:10: SettingWithCopyWarning: \n",
      "A value is trying to be set on a copy of a slice from a DataFrame\n",
      "\n",
      "See the caveats in the documentation: https://pandas.pydata.org/pandas-docs/stable/user_guide/indexing.html#returning-a-view-versus-a-copy\n",
      "  # Remove the CWD from sys.path while we load stuff.\n",
      "C:\\Users\\cfong\\anaconda3\\lib\\site-packages\\ipykernel_launcher.py:6: SettingWithCopyWarning: \n",
      "A value is trying to be set on a copy of a slice from a DataFrame\n",
      "\n",
      "See the caveats in the documentation: https://pandas.pydata.org/pandas-docs/stable/user_guide/indexing.html#returning-a-view-versus-a-copy\n",
      "  \n",
      "C:\\Users\\cfong\\anaconda3\\lib\\site-packages\\ipykernel_launcher.py:12: SettingWithCopyWarning: \n",
      "A value is trying to be set on a copy of a slice from a DataFrame\n",
      "\n",
      "See the caveats in the documentation: https://pandas.pydata.org/pandas-docs/stable/user_guide/indexing.html#returning-a-view-versus-a-copy\n",
      "  if sys.path[0] == '':\n",
      "C:\\Users\\cfong\\anaconda3\\lib\\site-packages\\ipykernel_launcher.py:8: SettingWithCopyWarning: \n",
      "A value is trying to be set on a copy of a slice from a DataFrame\n",
      "\n",
      "See the caveats in the documentation: https://pandas.pydata.org/pandas-docs/stable/user_guide/indexing.html#returning-a-view-versus-a-copy\n",
      "  \n"
     ]
    },
    {
     "data": {
      "text/html": [
       "<div>\n",
       "<style scoped>\n",
       "    .dataframe tbody tr th:only-of-type {\n",
       "        vertical-align: middle;\n",
       "    }\n",
       "\n",
       "    .dataframe tbody tr th {\n",
       "        vertical-align: top;\n",
       "    }\n",
       "\n",
       "    .dataframe thead th {\n",
       "        text-align: right;\n",
       "    }\n",
       "</style>\n",
       "<table border=\"1\" class=\"dataframe\">\n",
       "  <thead>\n",
       "    <tr style=\"text-align: right;\">\n",
       "      <th></th>\n",
       "      <th>Movement</th>\n",
       "      <th>Yes</th>\n",
       "      <th>No</th>\n",
       "    </tr>\n",
       "  </thead>\n",
       "  <tbody>\n",
       "    <tr>\n",
       "      <th>0</th>\n",
       "      <td>Down</td>\n",
       "      <td>195</td>\n",
       "      <td>228</td>\n",
       "    </tr>\n",
       "    <tr>\n",
       "      <th>1</th>\n",
       "      <td>Up</td>\n",
       "      <td>230</td>\n",
       "      <td>228</td>\n",
       "    </tr>\n",
       "  </tbody>\n",
       "</table>\n",
       "</div>"
      ],
      "text/plain": [
       "  Movement  Yes   No\n",
       "0     Down  195  228\n",
       "1       Up  230  228"
      ]
     },
     "metadata": {},
     "output_type": "display_data"
    },
    {
     "name": "stdout",
     "output_type": "stream",
     "text": [
      "Y's:  425\n",
      "N's:  456\n",
      "Downs:  423\n",
      "Ups:  458\n"
     ]
    }
   ],
   "source": [
    "data = {'Movement': ['Down', 'Up'], 'Yes': [0, 0], 'No': [0, 0]}\n",
    "freq_table = pd.DataFrame(data, columns=['Movement','Yes','No'])\n",
    "index = 0\n",
    "for x in X_train:\n",
    "    if x == 'Down' and y_train[index] == 'No':\n",
    "        freq_table['No'][0] += 1\n",
    "    elif x == 'Down' and y_train[index] == 'Yes':\n",
    "        freq_table['Yes'][0] += 1\n",
    "    elif x == 'Up' and y_train[index] == 'No':\n",
    "        freq_table['No'][1] += 1\n",
    "    else:\n",
    "        freq_table['Yes'][1] += 1\n",
    "    index += 1\n",
    "    \n",
    "display(freq_table)\n",
    "\n",
    "yes = sum(freq_table['Yes'])\n",
    "no = sum(freq_table['No'])\n",
    "\n",
    "print(\"Y\\'s: \", yes)\n",
    "print(\"N\\'s: \", no)\n",
    "\n",
    "downs = freq_table['Yes'][0] + freq_table['No'][0]\n",
    "ups = freq_table['Yes'][1] + freq_table['No'][1]\n",
    "\n",
    "print(\"Downs: \", downs)\n",
    "print(\"Ups: \", ups)"
   ]
  },
  {
   "cell_type": "code",
   "execution_count": 161,
   "metadata": {},
   "outputs": [
    {
     "name": "stdout",
     "output_type": "stream",
     "text": [
      "Correct:  195\n",
      "Wrong:  183\n",
      "Accuracy:  0.5158730158730159\n"
     ]
    }
   ],
   "source": [
    "import random\n",
    "\n",
    "predictions = []\n",
    "for x in X_test:\n",
    "    r = random.random()\n",
    "    if x == \"Down\":\n",
    "        if r < freq_table['Yes'][0] / (freq_table['Yes'][0] + freq_table['No'][0]):\n",
    "            predictions.append('Yes')\n",
    "        else:\n",
    "            predictions.append('No')\n",
    "    else:\n",
    "        if r < freq_table['Yes'][1] / (freq_table['Yes'][1] + freq_table['No'][1]):\n",
    "            predictions.append('Yes')\n",
    "        else:\n",
    "            predictions.append('No')\n",
    "\n",
    "correct = 0\n",
    "wrong = 0\n",
    "index = 0\n",
    "for p in y_test:\n",
    "    if p == predictions[index]:\n",
    "        correct += 1\n",
    "    else:\n",
    "        wrong += 1\n",
    "    index += 1\n",
    "\n",
    "acc = correct / (correct + wrong) \n",
    "\n",
    "print(\"Correct: \", correct)\n",
    "print(\"Wrong: \", wrong)\n",
    "print(\"Accuracy: \", acc)"
   ]
  },
  {
   "cell_type": "code",
   "execution_count": 162,
   "metadata": {},
   "outputs": [],
   "source": [
    "def plot_confusion_matrix(confusion_mat, cln):\n",
    "    plt.imshow(confusion_mat, interpolation='nearest', cmap=plt.cm.gray)\n",
    "    plt.title('Confusion matrix')\n",
    "    plt.colorbar()\n",
    "    tick_marks = np.arange(cln)\n",
    "    plt.xticks(tick_marks, tick_marks)\n",
    "    plt.yticks(tick_marks, tick_marks)\n",
    "    plt.ylabel('True label')\n",
    "    plt.xlabel('Predicted label')\n",
    "    plt.show()"
   ]
  },
  {
   "cell_type": "code",
   "execution_count": 163,
   "metadata": {},
   "outputs": [
    {
     "name": "stdout",
     "output_type": "stream",
     "text": [
      "[[106  89]\n",
      " [ 94  89]]\n"
     ]
    },
    {
     "data": {
      "image/png": "[encoded data removed]",
      "text/plain": [
       "<Figure size 432x288 with 2 Axes>"
      ]
     },
     "metadata": {
      "needs_background": "light"
     },
     "output_type": "display_data"
    }
   ],
   "source": [
    "y_true = []\n",
    "y_pred = []\n",
    "\n",
    "for x in y_test:\n",
    "    if x == 'Yes':\n",
    "        y_true.append(1)\n",
    "    else:\n",
    "        y_true.append(0)\n",
    "\n",
    "for x in predictions:\n",
    "    if x == 'Yes':\n",
    "        y_pred.append(1)\n",
    "    else:\n",
    "        y_pred.append(0)\n",
    "\n",
    "confusion_mat = confusion_matrix(y_true, y_pred)\n",
    "\n",
    "print(confusion_mat)\n",
    "plot_confusion_matrix(confusion_mat, 2)"
   ]
  },
  {
   "cell_type": "code",
   "execution_count": null,
   "metadata": {},
   "outputs": [],
   "source": []
  }
 ],
 "metadata": {
  "kernelspec": {
   "display_name": "Python 3",
   "language": "python",
   "name": "python3"
  },
  "language_info": {
   "codemirror_mode": {
    "name": "ipython",
    "version": 3
   },
   "file_extension": ".py",
   "mimetype": "text/x-python",
   "name": "python",
   "nbconvert_exporter": "python",
   "pygments_lexer": "ipython3",
   "version": "3.7.6"
  }
 },
 "nbformat": 4,
 "nbformat_minor": 4
}
