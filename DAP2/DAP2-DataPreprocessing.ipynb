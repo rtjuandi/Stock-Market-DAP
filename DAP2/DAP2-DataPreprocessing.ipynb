{
 "cells": [
  {
   "cell_type": "markdown",
   "metadata": {},
   "source": [
    "# Data Preprocessing"
   ]
  },
  {
   "cell_type": "markdown",
   "metadata": {},
   "source": [
    "## Library Imports"
   ]
  },
  {
   "cell_type": "code",
   "execution_count": 1,
   "metadata": {},
   "outputs": [],
   "source": [
    "import numpy as np\n",
    "import pandas as pd\n",
    "from sklearn import preprocessing"
   ]
  },
  {
   "cell_type": "markdown",
   "metadata": {},
   "source": [
    "## SP500_Prices.csv"
   ]
  },
  {
   "cell_type": "code",
   "execution_count": 2,
   "metadata": {},
   "outputs": [
    {
     "name": "stdout",
     "output_type": "stream",
     "text": [
      "Head:\n",
      "         Date         Open         High          Low        Close  \\\n",
      "0  2013-02-08  1509.390015  1518.310059  1509.390015  1517.930054   \n",
      "1  2013-02-11  1517.930054  1518.310059  1513.609985  1517.010010   \n",
      "2  2013-02-12  1517.010010  1522.290039  1515.609985  1519.430054   \n",
      "3  2013-02-13  1519.430054  1524.689941  1515.930054  1520.329956   \n",
      "4  2013-02-14  1520.329956  1523.140015  1514.020020  1521.380005   \n",
      "\n",
      "     Adj Close      Volume  \n",
      "0  1517.930054  2986150000  \n",
      "1  1517.010010  2684100000  \n",
      "2  1519.430054  3414370000  \n",
      "3  1520.329956  3385880000  \n",
      "4  1521.380005  3759740000   \n",
      "\n",
      "Tail:\n",
      "            Date         Open         High          Low        Close  \\\n",
      "1253  2018-01-31  2832.409912  2839.260010  2813.040039  2823.810059   \n",
      "1254  2018-02-01  2816.449951  2835.959961  2812.699951  2821.979980   \n",
      "1255  2018-02-02  2808.919922  2808.919922  2759.969971  2762.129883   \n",
      "1256  2018-02-05  2741.060059  2763.389893  2638.169922  2648.939941   \n",
      "1257  2018-02-06  2614.780029  2701.040039  2593.070068  2695.139893   \n",
      "\n",
      "        Adj Close      Volume  \n",
      "1253  2823.810059  4261280000  \n",
      "1254  2821.979980  3938450000  \n",
      "1255  2762.129883  4301130000  \n",
      "1256  2648.939941  5283460000  \n",
      "1257  2695.139893  5891660000   \n",
      "\n",
      "Description:\n",
      "              Open         High          Low        Close    Adj Close  \\\n",
      "count  1258.000000  1258.000000  1258.000000  1258.000000  1258.000000   \n",
      "mean   2061.217097  2069.629516  2052.293117  2061.834316  2061.834316   \n",
      "std     283.515410   282.996117   283.921297   283.453568   283.453568   \n",
      "min    1487.849976  1498.989990  1485.010010  1487.849976  1487.849976   \n",
      "25%    1876.770019  1884.882507  1867.050018  1877.102478  1877.102478   \n",
      "50%    2059.984985  2070.615112  2045.835022  2060.065064  2060.065064   \n",
      "75%    2182.630005  2186.497558  2177.279968  2182.534913  2182.534913   \n",
      "max    2867.229980  2872.870117  2851.479980  2872.870117  2872.870117   \n",
      "\n",
      "             Volume  \n",
      "count  1.258000e+03  \n",
      "mean   3.542167e+09  \n",
      "std    6.784577e+08  \n",
      "min    1.307630e+09  \n",
      "25%    3.141562e+09  \n",
      "50%    3.453535e+09  \n",
      "75%    3.827055e+09  \n",
      "max    7.597450e+09  \n"
     ]
    }
   ],
   "source": [
    "#Data Frame Descibe\n",
    "path = '../rawdata/SP500_Prices.csv'\n",
    "df = pd.read_csv(path)\n",
    "print(\"Head:\")\n",
    "print(df.head(), \"\\n\")\n",
    "print(\"Tail:\")\n",
    "print(df.tail(), \"\\n\")\n",
    "print(\"Description:\")\n",
    "print(df.describe())"
   ]
  },
  {
   "cell_type": "code",
   "execution_count": 3,
   "metadata": {},
   "outputs": [
    {
     "name": "stdout",
     "output_type": "stream",
     "text": [
      "Contains NaN values:  False\n"
     ]
    }
   ],
   "source": [
    "#Check for NaN values\n",
    "containsNaN = False\n",
    "\n",
    "for line in df:\n",
    "    for attribute in line:\n",
    "        if attribute == np.NaN:\n",
    "            containsNaN = True\n",
    "            break\n",
    "    if(containsNaN):\n",
    "        break\n",
    "\n",
    "        \n",
    "print(\"Contains NaN values: \", containsNaN)"
   ]
  },
  {
   "cell_type": "markdown",
   "metadata": {},
   "source": [
    "## SP500_individual.csv"
   ]
  },
  {
   "cell_type": "code",
   "execution_count": 4,
   "metadata": {},
   "outputs": [
    {
     "name": "stdout",
     "output_type": "stream",
     "text": [
      "Head:\n",
      "  Symbol                 Name                  Sector\n",
      "0    MMM           3M Company             Industrials\n",
      "1    AOS      A.O. Smith Corp             Industrials\n",
      "2    ABT  Abbott Laboratories             Health Care\n",
      "3   ABBV          AbbVie Inc.             Health Care\n",
      "4    ACN        Accenture plc  Information Technology \n",
      "\n",
      "Tail:\n",
      "    Symbol                    Name                  Sector\n",
      "500    XYL              Xylem Inc.             Industrials\n",
      "501    YUM         Yum! Brands Inc  Consumer Discretionary\n",
      "502    ZBH  Zimmer Biomet Holdings             Health Care\n",
      "503   ZION           Zions Bancorp              Financials\n",
      "504    ZTS                  Zoetis             Health Care \n",
      "\n",
      "Description:\n",
      "       Symbol                    Name                  Sector\n",
      "count     505                     505                     505\n",
      "unique    505                     505                      11\n",
      "top       CMI  Varian Medical Systems  Consumer Discretionary\n",
      "freq        1                       1                      82\n"
     ]
    }
   ],
   "source": [
    "#Data Frame Descibe\n",
    "path = '../rawdata/SP500_individual.csv'\n",
    "df = pd.read_csv(path)\n",
    "print(\"Head:\")\n",
    "print(df.head(), \"\\n\")\n",
    "print(\"Tail:\")\n",
    "print(df.tail(), \"\\n\")\n",
    "print(\"Description:\")\n",
    "print(df.describe())"
   ]
  },
  {
   "cell_type": "code",
   "execution_count": 5,
   "metadata": {},
   "outputs": [
    {
     "name": "stdout",
     "output_type": "stream",
     "text": [
      "Contains NaN values:  False\n"
     ]
    }
   ],
   "source": [
    "#Check for Empty String values\n",
    "containsEmpty = False\n",
    "\n",
    "for line in df:\n",
    "    for attribute in line:\n",
    "        if attribute == '':\n",
    "            containsEmpty = True\n",
    "            break\n",
    "    if(containsEmpty):\n",
    "        break\n",
    "\n",
    "        \n",
    "print(\"Contains NaN values: \", containsEmpty)"
   ]
  },
  {
   "cell_type": "markdown",
   "metadata": {},
   "source": [
    "## all_stocks_5yr.csv"
   ]
  },
  {
   "cell_type": "code",
   "execution_count": 6,
   "metadata": {},
   "outputs": [
    {
     "name": "stdout",
     "output_type": "stream",
     "text": [
      "Head:\n",
      "         date   open   high    low  close    volume Name\n",
      "0  2013-02-08  15.07  15.12  14.63  14.75   8407500  AAL\n",
      "1  2013-02-11  14.89  15.01  14.26  14.46   8882000  AAL\n",
      "2  2013-02-12  14.45  14.51  14.10  14.27   8126000  AAL\n",
      "3  2013-02-13  14.30  14.94  14.25  14.66  10259500  AAL\n",
      "4  2013-02-14  14.94  14.96  13.16  13.99  31879900  AAL \n",
      "\n",
      "Tail:\n",
      "              date   open   high    low  close   volume Name\n",
      "619035  2018-02-01  76.84  78.27  76.69  77.82  2982259  ZTS\n",
      "619036  2018-02-02  77.53  78.12  76.73  76.78  2595187  ZTS\n",
      "619037  2018-02-05  76.64  76.92  73.18  73.83  2962031  ZTS\n",
      "619038  2018-02-06  72.74  74.56  72.13  73.27  4924323  ZTS\n",
      "619039  2018-02-07  72.70  75.00  72.69  73.86  4534912  ZTS \n",
      "\n",
      "Description:\n",
      "                open           high            low          close  \\\n",
      "count  619029.000000  619032.000000  619032.000000  619040.000000   \n",
      "mean       83.023334      83.778311      82.256096      83.043763   \n",
      "std        97.378769      98.207519      96.507421      97.389748   \n",
      "min         1.620000       1.690000       1.500000       1.590000   \n",
      "25%        40.220000      40.620000      39.830000      40.245000   \n",
      "50%        62.590000      63.150000      62.020000      62.620000   \n",
      "75%        94.370000      95.180000      93.540000      94.410000   \n",
      "max      2044.000000    2067.990000    2035.110000    2049.000000   \n",
      "\n",
      "             volume  \n",
      "count  6.190400e+05  \n",
      "mean   4.321823e+06  \n",
      "std    8.693610e+06  \n",
      "min    0.000000e+00  \n",
      "25%    1.070320e+06  \n",
      "50%    2.082094e+06  \n",
      "75%    4.284509e+06  \n",
      "max    6.182376e+08  \n"
     ]
    }
   ],
   "source": [
    "#Data Frame Descibe\n",
    "path = '../rawdata/all_stocks_5yr.csv'\n",
    "df = pd.read_csv(path)\n",
    "print(\"Head:\")\n",
    "print(df.head(), \"\\n\")\n",
    "print(\"Tail:\")\n",
    "print(df.tail(), \"\\n\")\n",
    "print(\"Description:\")\n",
    "print(df.describe())"
   ]
  },
  {
   "cell_type": "code",
   "execution_count": 7,
   "metadata": {},
   "outputs": [
    {
     "name": "stdout",
     "output_type": "stream",
     "text": [
      "Contains NaN values:  False\n"
     ]
    }
   ],
   "source": [
    "#Check for NaN values\n",
    "containsNaN = False\n",
    "\n",
    "for line in df[['date', 'open', 'high', 'low', 'close', 'volume']]:\n",
    "    for attribute in line:\n",
    "        if attribute == np.NaN:\n",
    "            containsNaN = True\n",
    "            break\n",
    "    if(containsNaN):\n",
    "        break\n",
    "\n",
    "        \n",
    "print(\"Contains NaN values: \", containsNaN)"
   ]
  },
  {
   "cell_type": "code",
   "execution_count": 8,
   "metadata": {},
   "outputs": [
    {
     "name": "stdout",
     "output_type": "stream",
     "text": [
      "Contains NaN values:  False\n"
     ]
    }
   ],
   "source": [
    "#Check for Empty String values\n",
    "containsEmpty = False\n",
    "\n",
    "for line in df['Name']:\n",
    "    for attribute in line:\n",
    "        if attribute == '':\n",
    "            containsEmpty = True\n",
    "            break\n",
    "    if(containsEmpty):\n",
    "        break\n",
    "\n",
    "        \n",
    "print(\"Contains NaN values: \", containsEmpty)"
   ]
  },
  {
   "cell_type": "markdown",
   "metadata": {},
   "source": [
    "Note: Data was fortunately all clean from the beginning therefore no changes need to be made. Look at DAP2-ExploratoryDataAnalysis.ipynb for graphs and plots."
   ]
  }
 ],
 "metadata": {
  "kernelspec": {
   "display_name": "Python 3",
   "language": "python",
   "name": "python3"
  },
  "language_info": {
   "codemirror_mode": {
    "name": "ipython",
    "version": 3
   },
   "file_extension": ".py",
   "mimetype": "text/x-python",
   "name": "python",
   "nbconvert_exporter": "python",
   "pygments_lexer": "ipython3",
   "version": "3.7.6"
  }
 },
 "nbformat": 4,
 "nbformat_minor": 4
}
